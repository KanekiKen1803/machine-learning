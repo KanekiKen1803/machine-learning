{
 "cells": [
  {
   "cell_type": "code",
   "execution_count": 7,
   "metadata": {},
   "outputs": [],
   "source": [
    "import pandas as pd\n",
    "import numpy as np\n",
    "import matplotlib.pyplot as plt\n",
    "import seaborn as sns\n",
    "import time"
   ]
  },
  {
   "cell_type": "code",
   "execution_count": 8,
   "metadata": {},
   "outputs": [],
   "source": [
    "file_path_test = \"./q2test.xlsx\"\n",
    "file_path_train = \"./q2train.xlsx\"\n",
    "data_test = pd.read_excel(\"q2test.xlsx\")\n",
    "data_train = pd.read_excel(file_path_train)\n"
   ]
  },
  {
   "cell_type": "code",
   "execution_count": 3,
   "metadata": {},
   "outputs": [
    {
     "data": {
      "text/html": [
       "<div>\n",
       "<style scoped>\n",
       "    .dataframe tbody tr th:only-of-type {\n",
       "        vertical-align: middle;\n",
       "    }\n",
       "\n",
       "    .dataframe tbody tr th {\n",
       "        vertical-align: top;\n",
       "    }\n",
       "\n",
       "    .dataframe thead th {\n",
       "        text-align: right;\n",
       "    }\n",
       "</style>\n",
       "<table border=\"1\" class=\"dataframe\">\n",
       "  <thead>\n",
       "    <tr style=\"text-align: right;\">\n",
       "      <th></th>\n",
       "      <th>Aptitude</th>\n",
       "      <th>Verbal</th>\n",
       "      <th>Label</th>\n",
       "    </tr>\n",
       "  </thead>\n",
       "  <tbody>\n",
       "    <tr>\n",
       "      <th>0</th>\n",
       "      <td>34.723660</td>\n",
       "      <td>30.386711</td>\n",
       "      <td>0</td>\n",
       "    </tr>\n",
       "    <tr>\n",
       "      <th>1</th>\n",
       "      <td>30.386711</td>\n",
       "      <td>35.947409</td>\n",
       "      <td>0</td>\n",
       "    </tr>\n",
       "    <tr>\n",
       "      <th>2</th>\n",
       "      <td>35.947409</td>\n",
       "      <td>60.282599</td>\n",
       "      <td>0</td>\n",
       "    </tr>\n",
       "    <tr>\n",
       "      <th>3</th>\n",
       "      <td>45.183277</td>\n",
       "      <td>61.206665</td>\n",
       "      <td>0</td>\n",
       "    </tr>\n",
       "    <tr>\n",
       "      <th>4</th>\n",
       "      <td>95.961555</td>\n",
       "      <td>75.113658</td>\n",
       "      <td>0</td>\n",
       "    </tr>\n",
       "  </tbody>\n",
       "</table>\n",
       "</div>"
      ],
      "text/plain": [
       "    Aptitude     Verbal  Label\n",
       "0  34.723660  30.386711      0\n",
       "1  30.386711  35.947409      0\n",
       "2  35.947409  60.282599      0\n",
       "3  45.183277  61.206665      0\n",
       "4  95.961555  75.113658      0"
      ]
     },
     "execution_count": 3,
     "metadata": {},
     "output_type": "execute_result"
    }
   ],
   "source": [
    "data_train.head()"
   ]
  },
  {
   "cell_type": "code",
   "execution_count": 4,
   "metadata": {},
   "outputs": [],
   "source": [
    "x = np.array(data_train.iloc[:, :-1])\n",
    "y = np.array(data_train.iloc[:, -1]).reshape(-1,1)\n",
    "theta_initial = np.array([0.1,0.1,0.1]).reshape(-1,1)"
   ]
  },
  {
   "cell_type": "code",
   "execution_count": 5,
   "metadata": {},
   "outputs": [
    {
     "name": "stdout",
     "output_type": "stream",
     "text": [
      "----------------------------------------------------------\n",
      "Logistic Regression\n",
      "Number of Iterations:  189561\n",
      "Time Taken:  7.350202322006226\n",
      "The Values of theta for Logistic regression [[-4.71972859]\n",
      " [ 0.06900916]\n",
      " [ 0.00665459]]\n",
      "The Final cost is:  0.480046705755547\n",
      "----------------------------------------------------------\n"
     ]
    },
    {
     "data": {
      "text/plain": [
       "Text(0.5, 1.0, 'Cost vs Number of iterations: Logistic regression')"
      ]
     },
     "execution_count": 5,
     "metadata": {},
     "output_type": "execute_result"
    },
    {
     "data": {
      "image/png": "[encoded data removed]",
      "text/plain": [
       "<Figure size 432x288 with 1 Axes>"
      ]
     },
     "metadata": {
      "needs_background": "light"
     },
     "output_type": "display_data"
    },
    {
     "data": {
      "image/png": "[encoded data removed]",
      "text/plain": [
       "<Figure size 432x288 with 1 Axes>"
      ]
     },
     "metadata": {
      "needs_background": "light"
     },
     "output_type": "display_data"
    }
   ],
   "source": [
    "def sigmoid(x):\n",
    "    val = (1.0/(1.0+np.exp(-x)))\n",
    "    return val\n",
    "\n",
    "def grad(X, Y, theta):\n",
    "    val = np.dot(X.transpose(),sigmoid(np.dot(X, theta)) -Y)/len(Y)\n",
    "    return val\n",
    "\n",
    "def logistic_clf(x,y,theta,alpha, iterations):\n",
    "    z = 1.e-10\n",
    "    print(\"----------------------------------------------------------\")\n",
    "    print(\"Logistic Regression\")\n",
    "    x_only = x\n",
    "    x = np.hstack((np.ones(y.shape), x))\n",
    "    error = 100.0\n",
    "    cost_vs_itr = []\n",
    "    count = 0\n",
    "    sig = sigmoid(np.dot(x, theta))\n",
    "    cost = -(y*(np.log(sig+z))+((1-y)*np.log(1-sig +z))).mean()\n",
    "\n",
    "    begin = time.time()\n",
    "    while error> 1.e-7:\n",
    "        theta = theta - alpha*(grad(x,y,theta))\n",
    "        sig = sigmoid(np.dot(x, theta))\n",
    "        cost_new = (-y*(np.log(sig+z))-((1-y)*np.log(1-sig +z))).mean()\n",
    "        error = abs(cost_new - cost)\n",
    "        cost_vs_itr.append([cost_new, count])\n",
    "        cost = cost_new\n",
    "        count+=1\n",
    "    end = time.time()\n",
    "    plt.plot(np.dot(x, theta), sig)\n",
    "    plt.ylabel(\"G(z)\")\n",
    "    plt.xlabel(\"z\")\n",
    "    print(\"Number of Iterations: \",count)\n",
    "    print(\"Time Taken: \", end - begin)\n",
    "    print(\"The Values of theta for Logistic regression\",theta)\n",
    "    print(\"The Final cost is: \", cost_new)\n",
    "    print(\"----------------------------------------------------------\")\n",
    "    return theta, pd.DataFrame(cost_vs_itr)\n",
    "\n",
    "theta, graph = logistic_clf(x , y, theta_initial, 0.001,100000)\n",
    "logistic_reg_theta = theta\n",
    "\n",
    "plt.figure()\n",
    "sns.lineplot(data=graph, x =graph.iloc[:, 1], y =graph.iloc[:, 0] )\n",
    "plt.xlabel(\"Number of iterations\")\n",
    "plt.ylabel(\"Cost\")\n",
    "plt.title(\"Cost vs Number of iterations: Logistic regression\")"
   ]
  },
  {
   "cell_type": "code",
   "execution_count": 52,
   "metadata": {},
   "outputs": [
    {
     "data": {
      "text/plain": [
       "<AxesSubplot:title={'center':'Results on Test Data'}, xlabel='Aptitude', ylabel='Verbal'>"
      ]
     },
     "execution_count": 52,
     "metadata": {},
     "output_type": "execute_result"
    },
    {
     "data": {
      "image/png": "[encoded data removed]",
      "text/plain": [
       "<Figure size 432x288 with 1 Axes>"
      ]
     },
     "metadata": {
      "needs_background": "light"
     },
     "output_type": "display_data"
    }
   ],
   "source": [
    "def y_prediction(x, theta):\n",
    "    X = np.hstack((np.ones((x.shape[0],1)),x))\n",
    "    Y = np.ones((x.shape[0],1))\n",
    "    val = sigmoid(np.dot(X, theta))\n",
    "    rep = np.where(val<0.5)\n",
    "    Y[rep] = 0\n",
    "    return Y\n",
    "\n",
    "x_test = np.array(data_test.iloc[:])\n",
    "y_pred = y_prediction(x_test, theta).astype(np.uint8)\n",
    "np.savetxt('output1.txt', y_pred, newline='\\n', fmt=\"%.0g\")\n",
    "\n",
    "\n",
    "plt.figure()\n",
    "plt.title(\"Results on Test Data\")\n",
    "plt.xlabel(\"Aptitude\")\n",
    "plt.ylabel(\"Verbal\")\n",
    "df = pd.DataFrame(np.hstack((x_test, y_pred)))\n",
    "sns.scatterplot(data = df, x = df.iloc[:,0], y= df.iloc[:,1], hue=2)\n"
   ]
  },
  {
   "cell_type": "code",
   "execution_count": null,
   "metadata": {},
   "outputs": [],
   "source": []
  }
 ],
 "metadata": {
  "interpreter": {
   "hash": "ed225720166559e7176d3793db16a2fd8d295f725007103b21ac3099d2a89ee8"
  },
  "kernelspec": {
   "display_name": "Python 3.8.12 ('base')",
   "language": "python",
   "name": "python3"
  },
  "language_info": {
   "codemirror_mode": {
    "name": "ipython",
    "version": 3
   },
   "file_extension": ".py",
   "mimetype": "text/x-python",
   "name": "python",
   "nbconvert_exporter": "python",
   "pygments_lexer": "ipython3",
   "version": "3.8.12"
  },
  "orig_nbformat": 4
 },
 "nbformat": 4,
 "nbformat_minor": 2
}
